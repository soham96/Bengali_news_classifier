{
 "cells": [
  {
   "cell_type": "markdown",
   "metadata": {},
   "source": [
    "# Training Bengali News Word Vectors\n",
    "\n",
    "In this notebook, we will use the data we scraped from news websites to train a Word2Vec model for Bengali.\n",
    "\n",
    "Then we will test the model to see how well it is performing.\n",
    "\n",
    "First we import the packages we need"
   ]
  },
  {
   "cell_type": "code",
   "execution_count": 1,
   "metadata": {},
   "outputs": [],
   "source": [
    "import json\n",
    "import os\n",
    "import re\n",
    "import string\n",
    "import numpy as np\n",
    "\n",
    "from gensim.models import Word2Vec"
   ]
  },
  {
   "cell_type": "markdown",
   "metadata": {},
   "source": [
    "Let's define a function that will read the data file and extract the fields we want.\n",
    "\n",
    "In our case, we will be using the article body for training"
   ]
  },
  {
   "cell_type": "code",
   "execution_count": 2,
   "metadata": {},
   "outputs": [],
   "source": [
    "def extract_text(filename, field):\n",
    "    \n",
    "    extracted_field=[]\n",
    "    \n",
    "    with open(os.path.join('data', filename), 'r') as f:\n",
    "        articles=json.load(f)\n",
    "    \n",
    "    for article in articles['articles']:\n",
    "        extracted_field.append(article[field].strip())\n",
    "    \n",
    "    return extracted_field"
   ]
  },
  {
   "cell_type": "markdown",
   "metadata": {},
   "source": [
    "Now we define a function to preprocess our data.\n",
    "\n",
    "The function does the following:\n",
    "- It replaces common texts found in the data and replaces that with our custom text\n",
    "- It removes all emoji's and emoticons from the text\n",
    "- It removes all English text"
   ]
  },
  {
   "cell_type": "code",
   "execution_count": 3,
   "metadata": {},
   "outputs": [],
   "source": [
    "def replace_strings(texts, replace):\n",
    "    new_texts=[]\n",
    "    \n",
    "    emoji_pattern = re.compile(\"[\"\n",
    "                           u\"\\U0001F600-\\U0001F64F\"  # emoticons\n",
    "                           u\"\\U0001F300-\\U0001F5FF\"  # symbols & pictographs\n",
    "                           u\"\\U0001F680-\\U0001F6FF\"  # transport & map symbols\n",
    "                           u\"\\U0001F1E0-\\U0001F1FF\"  # flags (iOS)\n",
    "                           u\"\\U00002702-\\U000027B0\"\n",
    "                           u\"\\U000024C2-\\U0001F251\"\n",
    "                           \"]+\", flags=re.UNICODE)\n",
    "    english_pattern=re.compile('[a-zA-Z0-9]+', flags=re.I)\n",
    "    \n",
    "    for text in texts:\n",
    "        for r in replace:\n",
    "            text=text.replace(r[0], r[1])\n",
    "        text=emoji_pattern.sub(r'', text)\n",
    "        text=english_pattern.sub(r'', text)\n",
    "        text=re.sub(r'\\s+', ' ', text).strip()\n",
    "        new_texts.append(text)\n",
    "\n",
    "    return new_texts"
   ]
  },
  {
   "cell_type": "markdown",
   "metadata": {},
   "source": [
    "We also need to remove all the punctuations in our data. The `remove_pun` function removes all common punctuations found in text."
   ]
  },
  {
   "cell_type": "code",
   "execution_count": 4,
   "metadata": {},
   "outputs": [],
   "source": [
    "def remove_punc(sentences):\n",
    "    # import ipdb; ipdb.set_trace()\n",
    "    new_sentences=[]\n",
    "    exclude = list(set(string.punctuation))\n",
    "    exclude.extend([\"’\", \"‘\", \"—\"])\n",
    "    for sentence in sentences:\n",
    "        s = ''.join(ch for ch in sentence if ch not in exclude)\n",
    "        new_sentences.append(s)\n",
    "    \n",
    "    return new_sentences"
   ]
  },
  {
   "cell_type": "markdown",
   "metadata": {},
   "source": [
    "Let's extract some of the data from Ebala and print them to see how the data changes throughout the process."
   ]
  },
  {
   "cell_type": "code",
   "execution_count": 5,
   "metadata": {},
   "outputs": [
    {
     "name": "stdout",
     "output_type": "stream",
     "text": [
      "\u001b[31mCrawled Unprocessed Text\u001b[0m\n",
      "সানিয়া মির্জা কি ইতিমধ্যেই সন্তানের জন্ম দিয়েছেন? হঠাৎই এমন গুজবে উত্তাল সোশ্যাল মিডিয়া। শেষ পর্যন্ত সেই গুজব খণ্ডনে আসরে নামতে হল শোয়েব মালিককে। তিনি টুইট করলেন, ‘‘আমরা সঠিকভাবে সকলকে জানাব যখন আমাদের সন্তান ভূমিষ্ঠ হবে। অনুগ্রহ করে আমাদের জন্য প্রার্থনা করবেন। প্লিজ ইন্টারনেটে যা দেখবেন/পড়বেন তা মোটেই বিশ্বাস করবেন না।’’\n",
      "\n",
      "We will do a proper announcement when the kid decides to arrive, please keep us in your Duas (and don’t believe everything you see/read on the internet please!) 🙏🏼\n",
      "— Shoaib Malik 🇵🇰 (@realshoaibmalik) October 14, 2018\n",
      "\n",
      "ঘটনা হল, কিছুদিনের মধ্যেই শোয়েব-সানিয়ার নতুন সন্তান আসতে চলেছে। আসন্নপ্রসবা সানিয়াকে গত কয়েকমাস ধরেই নিজের সোশ্যাল মিডিয়া অ্যাকাউন্ট থেকে একাধিক ছবি পোস্ট করতে দেখা যাচ্ছে। বিভিন্ন অনুষ্ঠানে পরিবারের সদস্যদের সঙ্গেই সানিয়াকে দেখা গিয়েছে সেই সব পোস্ট করা ছবিতে।\n",
      "\n",
      "এই বিষয়ে অন্যান্য খবর\n",
      "\n",
      "সন্তানসম্ভবা সানিয়াকে ‘ইট’ নেটিজেনদের, পালটা ‘পাটকেল’ টেনিস রানির\n",
      "\n",
      "\n",
      "এর মধ্যেই হঠাৎ চলতি সপ্তাহে গুজব ছড়িয়ে পড়ে সানিয়া ইতিমধ্যেই ফুটফুটে পুত্রসন্তান প্রসব করেছেন। সোশ্যাল মিডিয়ায় ছবি-সহ শুভেচ্ছাবার্তাও ভেসে আসে। সানিয়া নিজেও এমন সোশ্যাল মিডিয়ায় পোস্টে যারপরনাই বিরক্ত হন।\n",
      "\n",
      "Meanwhile\n",
      "Sania mirza gave birth to baby boy\n",
      "#AsadUmarLive pic.twitter.com/Al0UgcRQce\n",
      "— Fahad Ahmad (@Fahad_ablazed) October 13, 2018\n",
      "\n",
      "তিনি সটান নিজের টুইটার অ্যাকাউন্ট থেকে লিখে দেন, ‘‘কিছু ব্যক্তির জন্য, যাঁদের অধিকাংশই পুরুষ কিছু পরামর্শ থাকছে। যাঁরা মনে করেন গর্ভধারণ করা মানে নয় মাসের শীতঘুমে চলে যাওয়া, বাড়িতেই থাকা এবং এমন অবস্থার জন্য লজ্জিত থাকা। দেখুন, কোনও নারী যখন অন্তঃসত্ত্বা হন, তখন তিনি মোটেই কোনও অসুখে ভুগছেন না বা অস্পৃশ্যও হয়ে যান না কিংবা মৃত হয়ে যান না। তাঁরা তখনও স্বাভাবিক মানুষ এবং তাঁদের পূর্ণ অধিকার রয়েছে স্বাভাবিক জীবন যাপন করার।’’\n",
      "\n",
      "Word of advice for ppl(specially since the majority seem to be men) who think being pregnant means you have to go into hibernation for 9 months,sit at home and for some reason be ‘ashamed in this haalat’..So when women are pregnant they don’t have a disease or become untouchable-\n",
      "— Sania Mirza (@MirzaSania) October 12, 2018\n",
      "\n",
      "\n",
      "Or become a corpse!!! They are still ‘NORMAL’ human beings and are still allowed to live a normal life!! so pls take your heads out of your a** and think where exactly you came from too..your mother’s womb!! #ittakesallkindstomakethisworld #dumidiots too !!\n",
      "— Sania Mirza (@MirzaSania) October 12, 2018\n",
      "\n",
      "পাশাপাশি ক্রুদ্ধ সানিয়া তাঁর ট্রোলারদের মনে করিয়ে দেন, তাঁরাও জন্মেছেন তাঁদের মায়ের গর্ভে। নিজের টুইটে সানিয়াকে অশ্রাব্য কিছু শব্দ লিখতেও দেখা যায়। ট্রোলারদের সঙ্গে সানিয়ার ইন্টারনেট যুদ্ধে ইতি টানতেই এবার স্বয়ং আসরে নামলেন স্বামী শোয়েব।\n",
      "\u001b[31mSentences after removing all punctuations\u001b[0m\n",
      "সানিয়া মির্জা কি ইতিমধ্যেই সন্তানের জন্ম দিয়েছেন হঠাৎই এমন গুজবে উত্তাল সোশ্যাল মিডিয়া। শেষ পর্যন্ত সেই গুজব খণ্ডনে আসরে নামতে হল শোয়েব মালিককে। তিনি টুইট করলেন আমরা সঠিকভাবে সকলকে জানাব যখন আমাদের সন্তান ভূমিষ্ঠ হবে। অনুগ্রহ করে আমাদের জন্য প্রার্থনা করবেন। প্লিজ ইন্টারনেটে যা দেখবেনপড়বেন তা মোটেই বিশ্বাস করবেন না।\n",
      "\n",
      "We will do a proper announcement when the kid decides to arrive please keep us in your Duas and dont believe everything you seeread on the internet please 🙏🏼\n",
      " Shoaib Malik 🇵🇰 realshoaibmalik October 14 2018\n",
      "\n",
      "ঘটনা হল কিছুদিনের মধ্যেই শোয়েবসানিয়ার নতুন সন্তান আসতে চলেছে। আসন্নপ্রসবা সানিয়াকে গত কয়েকমাস ধরেই নিজের সোশ্যাল মিডিয়া অ্যাকাউন্ট থেকে একাধিক ছবি পোস্ট করতে দেখা যাচ্ছে। বিভিন্ন অনুষ্ঠানে পরিবারের সদস্যদের সঙ্গেই সানিয়াকে দেখা গিয়েছে সেই সব পোস্ট করা ছবিতে।\n",
      "\n",
      "এই বিষয়ে অন্যান্য খবর\n",
      "\n",
      "সন্তানসম্ভবা সানিয়াকে ইট নেটিজেনদের পালটা পাটকেল টেনিস রানির\n",
      "\n",
      "\n",
      "এর মধ্যেই হঠাৎ চলতি সপ্তাহে গুজব ছড়িয়ে পড়ে সানিয়া ইতিমধ্যেই ফুটফুটে পুত্রসন্তান প্রসব করেছেন। সোশ্যাল মিডিয়ায় ছবিসহ শুভেচ্ছাবার্তাও ভেসে আসে। সানিয়া নিজেও এমন সোশ্যাল মিডিয়ায় পোস্টে যারপরনাই বিরক্ত হন।\n",
      "\n",
      "Meanwhile\n",
      "Sania mirza gave birth to baby boy\n",
      "AsadUmarLive pictwittercomAl0UgcRQce\n",
      " Fahad Ahmad Fahadablazed October 13 2018\n",
      "\n",
      "তিনি সটান নিজের টুইটার অ্যাকাউন্ট থেকে লিখে দেন কিছু ব্যক্তির জন্য যাঁদের অধিকাংশই পুরুষ কিছু পরামর্শ থাকছে। যাঁরা মনে করেন গর্ভধারণ করা মানে নয় মাসের শীতঘুমে চলে যাওয়া বাড়িতেই থাকা এবং এমন অবস্থার জন্য লজ্জিত থাকা। দেখুন কোনও নারী যখন অন্তঃসত্ত্বা হন তখন তিনি মোটেই কোনও অসুখে ভুগছেন না বা অস্পৃশ্যও হয়ে যান না কিংবা মৃত হয়ে যান না। তাঁরা তখনও স্বাভাবিক মানুষ এবং তাঁদের পূর্ণ অধিকার রয়েছে স্বাভাবিক জীবন যাপন করার।\n",
      "\n",
      "Word of advice for pplspecially since the majority seem to be men who think being pregnant means you have to go into hibernation for 9 monthssit at home and for some reason be ashamed in this haalatSo when women are pregnant they dont have a disease or become untouchable\n",
      " Sania Mirza MirzaSania October 12 2018\n",
      "\n",
      "\n",
      "Or become a corpse They are still NORMAL human beings and are still allowed to live a normal life so pls take your heads out of your a and think where exactly you came from tooyour mothers womb ittakesallkindstomakethisworld dumidiots too \n",
      " Sania Mirza MirzaSania October 12 2018\n",
      "\n",
      "পাশাপাশি ক্রুদ্ধ সানিয়া তাঁর ট্রোলারদের মনে করিয়ে দেন তাঁরাও জন্মেছেন তাঁদের মায়ের গর্ভে। নিজের টুইটে সানিয়াকে অশ্রাব্য কিছু শব্দ লিখতেও দেখা যায়। ট্রোলারদের সঙ্গে সানিয়ার ইন্টারনেট যুদ্ধে ইতি টানতেই এবার স্বয়ং আসরে নামলেন স্বামী শোয়েব।\n",
      "\u001b[31mSentences after replacing strings\u001b[0m\n",
      "সানিয়া মির্জা কি ইতিমধ্যেই সন্তানের জন্ম দিয়েছেন হঠাৎই এমন গুজবে উত্তাল সোশ্যাল মিডিয়া। শেষ পর্যন্ত সেই গুজব খণ্ডনে আসরে নামতে হল শোয়েব মালিককে। তিনি টুইট করলেন আমরা সঠিকভাবে সকলকে জানাব যখন আমাদের সন্তান ভূমিষ্ঠ হবে। অনুগ্রহ করে আমাদের জন্য প্রার্থনা করবেন। প্লিজ ইন্টারনেটে যা দেখবেনপড়বেন তা মোটেই বিশ্বাস করবেন না। ঘটনা হল কিছুদিনের মধ্যেই শোয়েবসানিয়ার নতুন সন্তান আসতে চলেছে। আসন্নপ্রসবা সানিয়াকে গত কয়েকমাস ধরেই নিজের সোশ্যাল মিডিয়া অ্যাকাউন্ট থেকে একাধিক ছবি পোস্ট করতে দেখা যাচ্ছে। বিভিন্ন অনুষ্ঠানে পরিবারের সদস্যদের সঙ্গেই সানিয়াকে দেখা গিয়েছে সেই সব পোস্ট করা ছবিতে। এই বিষয়ে অন্যান্য খবর সন্তানসম্ভবা সানিয়াকে ইট নেটিজেনদের পালটা পাটকেল টেনিস রানির এর মধ্যেই হঠাৎ চলতি সপ্তাহে গুজব ছড়িয়ে পড়ে সানিয়া ইতিমধ্যেই ফুটফুটে পুত্রসন্তান প্রসব করেছেন। সোশ্যাল মিডিয়ায় ছবিসহ শুভেচ্ছাবার্তাও ভেসে আসে। সানিয়া নিজেও এমন সোশ্যাল মিডিয়ায় পোস্টে যারপরনাই বিরক্ত হন। তিনি সটান নিজের টুইটার অ্যাকাউন্ট থেকে লিখে দেন কিছু ব্যক্তির জন্য যাঁদের অধিকাংশই পুরুষ কিছু পরামর্শ থাকছে। যাঁরা মনে করেন গর্ভধারণ করা মানে নয় মাসের শীতঘুমে চলে যাওয়া বাড়িতেই থাকা এবং এমন অবস্থার জন্য লজ্জিত থাকা। দেখুন কোনও নারী যখন অন্তঃসত্ত্বা হন তখন তিনি মোটেই কোনও অসুখে ভুগছেন না বা অস্পৃশ্যও হয়ে যান না কিংবা মৃত হয়ে যান না। তাঁরা তখনও স্বাভাবিক মানুষ এবং তাঁদের পূর্ণ অধিকার রয়েছে স্বাভাবিক জীবন যাপন করার। পাশাপাশি ক্রুদ্ধ সানিয়া তাঁর ট্রোলারদের মনে করিয়ে দেন তাঁরাও জন্মেছেন তাঁদের মায়ের গর্ভে। নিজের টুইটে সানিয়াকে অশ্রাব্য কিছু শব্দ লিখতেও দেখা যায়। ট্রোলারদের সঙ্গে সানিয়ার ইন্টারনেট যুদ্ধে ইতি টানতেই এবার স্বয়ং আসরে নামলেন স্বামী শোয়েব।\n"
     ]
    }
   ],
   "source": [
    "ebala_body=extract_text('ebala_articles.txt', 'body')\n",
    "\n",
    "print(\"\\x1b[31mCrawled Unprocessed Text\\x1b[0m\")\n",
    "print(ebala_body[12])\n",
    "\n",
    "replace=[('\\u200c', ' '),\n",
    "         ('\\u200d', ' '),\n",
    "        ('\\xa0', ' '),\n",
    "        ('\\n', ' '),\n",
    "        ('\\r', ' ')]\n",
    "\n",
    "ebala_body=remove_punc(ebala_body)\n",
    "\n",
    "print(\"\\x1b[31mSentences after removing all punctuations\\x1b[0m\")\n",
    "print(ebala_body[12])\n",
    "\n",
    "ebala_body=replace_strings(ebala_body, replace)\n",
    "\n",
    "print(\"\\x1b[31mSentences after replacing strings\\x1b[0m\")\n",
    "print(ebala_body[12])"
   ]
  },
  {
   "cell_type": "markdown",
   "metadata": {},
   "source": [
    "We do the same thing for the other data too"
   ]
  },
  {
   "cell_type": "code",
   "execution_count": 6,
   "metadata": {},
   "outputs": [],
   "source": [
    "abz_body=extract_text('anandabazar_articles.txt', 'body')\n",
    "\n",
    "abz_body=remove_punc(abz_body)\n",
    "abz_body=replace_strings(abz_body, replace)"
   ]
  },
  {
   "cell_type": "code",
   "execution_count": 7,
   "metadata": {},
   "outputs": [],
   "source": [
    "zee_body=extract_text('zeenews_articles.txt', 'body')\n",
    "\n",
    "zee_body=remove_punc(zee_body)\n",
    "zee_body=replace_strings(zee_body, replace)"
   ]
  },
  {
   "cell_type": "code",
   "execution_count": 8,
   "metadata": {},
   "outputs": [
    {
     "name": "stdout",
     "output_type": "stream",
     "text": [
      "Total Number of training data: 14205\n"
     ]
    }
   ],
   "source": [
    "body=[]\n",
    "body.extend(zee_body)\n",
    "body.extend(abz_body)\n",
    "body.extend(ebala_body)\n",
    "\n",
    "print(f\"Total Number of training data: {len(body)}\")"
   ]
  },
  {
   "cell_type": "markdown",
   "metadata": {},
   "source": [
    "Finally, we need to split the articles into sentences and extract each word from those sentences.\n",
    "\n",
    "Our final training data looks like this"
   ]
  },
  {
   "cell_type": "code",
   "execution_count": 9,
   "metadata": {},
   "outputs": [
    {
     "name": "stdout",
     "output_type": "stream",
     "text": [
      "[['যা', 'আমাদের', 'ত্যাগের', 'দিকে', 'তপস্যার', 'দিকে', 'নিয়ে', 'যায়', 'তাকেই', 'বলি', 'মনুষ্যত্ব', 'মানুষের', 'ধর্ম'], ['এইরকমই', 'এক', 'ধর্মের', 'কথা', 'ভেবেছিলেন', 'রবীন্দ্রনাথ'], ['কিন্তু', 'কী', 'ত্যাগ', 'কিসেরই', 'বা', 'তপস্যা', 'রবীন্দ্রনাথ', 'তাকে', 'বলছেন', 'যেখানে', 'আমিকে', 'নাআমির', 'দিকে', 'ছাড়তে', 'বাধা', 'পাই', 'তাকে', 'অহং', 'বেড়ায়', 'বিচ্ছিন্ন', 'সীমাবদ্ধ', 'করে', 'দেখি'], ['এক', 'আত্মলোকে', 'সকল', 'আত্মর', 'অভিমুখে', 'আত্মার', 'সত্য', 'এই', 'সত্যের', 'আদর্শেই', 'বিচার', 'করতে', 'হবে', 'মানুষের', 'সভ্যতা'], ['মানুষের', 'দায়', 'মহামানবের', 'দায়', 'কোথাও', 'তার', 'সীমা', 'নেই'], ['রবীন্দ্রনাথ', 'যাকে', 'বলছেন', 'মহামানবের', 'দায়', 'তা', 'হল', 'আমি', 'থেকে', 'নাআমিতে', 'পৌঁছনো'], ['আবরণময়', 'আমিকে', 'আবরণমুক্ত', 'আত্মতে', 'উত্তরণ'], ['সেটাই', 'তাঁর', 'সাধনা'], ['রবীন্দ্রনাথ', 'যাকে', 'বলেন', 'হওয়া', 'বা', 'হয়ে', 'ওঠা'], ['এই', 'হয়ে', 'ওঠার', 'সাধনাই', 'রবীন্দ্রনাথের', 'জীবনজুড়ে', 'তাঁর', 'সমগ্র', 'রচনার', 'ধারণশক্তি']]\n"
     ]
    }
   ],
   "source": [
    "body=[article.split('।') for article in body]\n",
    "body=[item for sublist in body for item in sublist]\n",
    "body=[item.strip() for item in body if len(item.split())>1]\n",
    "\n",
    "body=[item.split() for item in body]\n",
    "\n",
    "print(body[:10])"
   ]
  },
  {
   "cell_type": "markdown",
   "metadata": {},
   "source": [
    "Now that we have our preprocessed training data, we can start training our model.\n",
    "\n",
    "We will generate embeddings for each word of size 200 and use 5 words in its vicinity to figure out the meaning of the word"
   ]
  },
  {
   "cell_type": "code",
   "execution_count": 10,
   "metadata": {},
   "outputs": [],
   "source": [
    "model = Word2Vec(body, size=200, window=5, min_count=1)"
   ]
  },
  {
   "cell_type": "code",
   "execution_count": 21,
   "metadata": {},
   "outputs": [
    {
     "name": "stdout",
     "output_type": "stream",
     "text": [
      "What are the words most similar to chele\n"
     ]
    },
    {
     "data": {
      "text/plain": [
       "[('মেয়ে', 0.9279561042785645),\n",
       " ('ভাই', 0.8839391469955444),\n",
       " ('বোন', 0.8741269111633301),\n",
       " ('বাবা', 0.8684152364730835),\n",
       " ('বন্ধু', 0.8629558682441711)]"
      ]
     },
     "execution_count": 21,
     "metadata": {},
     "output_type": "execute_result"
    }
   ],
   "source": [
    "print(\"What are the words most similar to chele\")\n",
    "model.wv.most_similar('ছেলে', topn=5)"
   ]
  },
  {
   "cell_type": "code",
   "execution_count": 20,
   "metadata": {},
   "outputs": [
    {
     "name": "stdout",
     "output_type": "stream",
     "text": [
      "What is Father + Girl - Boy =?\n"
     ]
    },
    {
     "data": {
      "text/plain": [
       "[('মা', 0.910052478313446),\n",
       " ('বাবামা', 0.8313219547271729),\n",
       " ('স্ত্রী', 0.7864214777946472),\n",
       " ('সন্তান', 0.7833602428436279),\n",
       " ('বন্ধুরা', 0.7827222347259521)]"
      ]
     },
     "execution_count": 20,
     "metadata": {},
     "output_type": "execute_result"
    }
   ],
   "source": [
    "print(\"What is Father + Girl - Boy =?\")\n",
    "model.wv.most_similar(positive=['বাবা', 'মেয়ে'], negative=['ছেলে'], topn=5)"
   ]
  },
  {
   "cell_type": "code",
   "execution_count": 22,
   "metadata": {},
   "outputs": [
    {
     "name": "stdout",
     "output_type": "stream",
     "text": [
      "Find the odd one out\n"
     ]
    },
    {
     "data": {
      "text/plain": [
       "'রবীন্দ্রনাথ'"
      ]
     },
     "execution_count": 22,
     "metadata": {},
     "output_type": "execute_result"
    }
   ],
   "source": [
    "print('Find the odd one out')\n",
    "model.wv.doesnt_match(\"কলকাতা চেন্নাই দিল্লি রবীন্দ্রনাথ\".split())"
   ]
  },
  {
   "cell_type": "code",
   "execution_count": 23,
   "metadata": {},
   "outputs": [
    {
     "name": "stdout",
     "output_type": "stream",
     "text": [
      "How similar are bengali and sweet?\n"
     ]
    },
    {
     "data": {
      "text/plain": [
       "0.6867578"
      ]
     },
     "execution_count": 23,
     "metadata": {},
     "output_type": "execute_result"
    }
   ],
   "source": [
    "print(\"How similar are bengali and sweet?\")\n",
    "model.wv.similarity('বাঙালি', 'মিষ্টি')"
   ]
  },
  {
   "cell_type": "code",
   "execution_count": 25,
   "metadata": {},
   "outputs": [],
   "source": [
    "model.wv.save_word2vec_format('news_vector_text.txt', binary=False)\n",
    "model.wv.save_word2vec_format('news_vector_binary.txt', binary=True)"
   ]
  },
  {
   "cell_type": "code",
   "execution_count": 26,
   "metadata": {},
   "outputs": [
    {
     "name": "stdout",
     "output_type": "stream",
     "text": [
      "What about Bihari and Sweets?\n"
     ]
    },
    {
     "data": {
      "text/plain": [
       "0.5881788"
      ]
     },
     "execution_count": 26,
     "metadata": {},
     "output_type": "execute_result"
    }
   ],
   "source": [
    "print(\"What about Bihari and Sweets?\")\n",
    "model.wv.similarity('বিহারি', 'মিষ্টি')"
   ]
  },
  {
   "cell_type": "code",
   "execution_count": null,
   "metadata": {},
   "outputs": [],
   "source": []
  }
 ],
 "metadata": {
  "kernelspec": {
   "display_name": "Python 3",
   "language": "python",
   "name": "python3"
  },
  "language_info": {
   "codemirror_mode": {
    "name": "ipython",
    "version": 3
   },
   "file_extension": ".py",
   "mimetype": "text/x-python",
   "name": "python",
   "nbconvert_exporter": "python",
   "pygments_lexer": "ipython3",
   "version": "3.6.5"
  }
 },
 "nbformat": 4,
 "nbformat_minor": 2
}
